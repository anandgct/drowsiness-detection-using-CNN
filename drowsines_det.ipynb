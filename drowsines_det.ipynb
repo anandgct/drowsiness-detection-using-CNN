{
 "cells": [
  {
   "cell_type": "code",
   "execution_count": null,
   "id": "319cc7d9",
   "metadata": {},
   "outputs": [],
   "source": [
    "# importing the neccesary packages\n",
    "from sklearn.preprocessing import LabelBinarizer\n",
    "from tensorflow.keras.layers import Input, Lambda, Dense, Flatten, Conv2D, MaxPooling2D, Dropout\n",
    "from tensorflow.keras.models import Model\n",
    "from tensorflow.keras.models import Sequential\n",
    "from keras.preprocessing.image import ImageDataGenerator\n",
    "import tensorflow as tf\n",
    "from sklearn.model_selection import train_test_split\n",
    "import keras\n",
    "import numpy as np\n",
    "import pandas as pd \n",
    "import os\n",
    "import cv2\n",
    "import matplotlib.pyplot as plt"
   ]
  },
  {
   "cell_type": "code",
   "execution_count": null,
   "id": "3e0b3eb1",
   "metadata": {},
   "outputs": [],
   "source": [
    "data_path = os.listdir(\"/path\")"
   ]
  },
  {
   "cell_type": "code",
   "execution_count": null,
   "id": "b55e1c7e",
   "metadata": {},
   "outputs": [],
   "source": [
    "sample_img = plt.imread(\"/path\")"
   ]
  },
  {
   "cell_type": "code",
   "execution_count": null,
   "id": "cd3fe872",
   "metadata": {},
   "outputs": [],
   "source": [
    "lbl  = os.listdir(\"/path\")\n",
    "def fc_yawn(direc=\"/path\", face_cas_path=\"/path\"):\n",
    "    y_no = []\n",
    "    imgSize = 145\n",
    "    cati = [\"yawn\", \"no_yawn\"]\n",
    "    for cat in cati:\n",
    "        p_link = os.path.join(direc, cat)\n",
    "        num = cati.index(cat)\n",
    "        for image in os.listdir(p_link):\n",
    "            img_ar = cv2.imread(os.path.join(p_link, image), cv2.IMREAD_COLOR)\n",
    "            fac_cas = cv2.CascadeClassifier(face_cas_path)\n",
    "            faces = fac_cas.detectMultiScale(img_ar, 1.3, 5)\n",
    "            for (x, y, w, h) in faces:\n",
    "                img_es = cv2.rectangle(img_ar, (x, y), (x+w, y+h), (0, 255, 0), 2)\n",
    "                roi_clr = img_es[y:y+h, x:x+w]\n",
    "                re_ar = cv2.resize(roi_clr, (imgSize, imgSize))\n",
    "                y_no.append([re_ar, num])\n",
    "    return y_no\n"
   ]
  },
  {
   "cell_type": "code",
   "execution_count": null,
   "id": "e9f06ede",
   "metadata": {},
   "outputs": [],
   "source": [
    "yawn_no_yawn = fc_yawn()\n",
    "def getData(dir_path=\"/path\", face_cas=\"/path\", eye_cas=\"/path\"):\n",
    "    lbl = ['Closed', 'Open']\n",
    "    imgSize = 145\n",
    "    d = []\n",
    "    for lb in lbl:\n",
    "        path = os.path.join(dir_path, lb)\n",
    "        cls_num = lbl.index(lb)\n",
    "        cls_num +=2\n",
    "        for img_es in os.listdir(path):\n",
    "            try:\n",
    "                img_array = cv2.imread(os.path.join(path, img_es), cv2.IMREAD_COLOR)\n",
    "                re_ar = cv2.resize(img_array, (imgSize, imgSize))\n",
    "                d.append([re_ar, cls_num])\n",
    "            except Exception as e:\n",
    "                print(e)\n",
    "    return d\n"
   ]
  },
  {
   "cell_type": "code",
   "execution_count": null,
   "id": "772e5b1d",
   "metadata": {},
   "outputs": [],
   "source": [
    "data_train = getData()\n",
    "def ap_data():\n",
    "    y_no = face_yawn()\n",
    "    d = getData()\n",
    "    y_no.extend(d)\n",
    "    return np.array(y_no)\n",
    "new_data = ap_data()\n"
   ]
  },
  {
   "cell_type": "code",
   "execution_count": null,
   "id": "17d99e36",
   "metadata": {},
   "outputs": [],
   "source": [
    "X = []\n",
    "y = []\n",
    "for fea, lb in new_data:\n",
    "    X.append(fea)\n",
    "    y.append(lb)\n",
    "X = np.array(X)\n",
    "X = X.reshape(-1, 145, 145, 3)\n",
    "lbling = LabelBinarizer()\n",
    "y = lbling.fit_transform(y)\n",
    "y = np.array(y)\n"
   ]
  },
  {
   "cell_type": "code",
   "execution_count": null,
   "id": "59cdd933",
   "metadata": {},
   "outputs": [],
   "source": [
    "seed = 42\n",
    "testdata_size = 0.30\n",
    "xtrain, xtest, ytrain, ytest = train_test_split(X, y, random_state=seed, testdata_size=testdata_size)\n",
    "train_gen = ImageDataGenerator(rescale=1/255, zoom_range=0.2, horizontal_flip=True, rotation_range=30)"
   ]
  },
  {
   "cell_type": "code",
   "execution_count": null,
   "id": "281ced1b",
   "metadata": {},
   "outputs": [],
   "source": [
    "test_gen = ImageDataGenerator(rescale=1/255)\n",
    "\n",
    "train_gen = train_gen.flow(np.array(xtrain), ytrain, shuffle=False)\n",
    "test_gen = test_gen.flow(np.array(xtest), ytest, shuffle=False)\n"
   ]
  },
  {
   "cell_type": "code",
   "execution_count": null,
   "id": "3bc89075",
   "metadata": {},
   "outputs": [],
   "source": [
    "model_def = Sequential()\n",
    "\n",
    "model_def.add(Conv2D(256, (3, 3), activation=\"relu\", input_shape=xtrain.shape[1:]))\n",
    "model_def.add(MaxPooling2D(2, 2))\n",
    "\n",
    "model_def.add(Conv2D(128, (3, 3), activation=\"relu\"))\n",
    "model_def.add(MaxPooling2D(2, 2))\n",
    "\n",
    "model_def.add(Conv2D(64, (3, 3), activation=\"relu\"))\n",
    "model_def.add(MaxPooling2D(2, 2))\n",
    "\n",
    "model_def.add(Conv2D(32, (3, 3), activation=\"relu\"))\n",
    "model_def.add(MaxPooling2D(2, 2))\n",
    "\n",
    "model_def.add(Flatten())\n",
    "model_def.add(Dropout(0.5))\n",
    "\n",
    "model_def.add(Dense(64, activation=\"relu\"))\n",
    "model_def.add(Dense(4, activation=\"softmax\"))\n",
    "\n",
    "model_def.compile(loss=\"categorical_crossentropy\", metrics=[\"accuracy\"], optimizer=\"adam\")\n",
    "\n",
    "model_def.summary()\n"
   ]
  },
  {
   "cell_type": "code",
   "execution_count": null,
   "id": "d28b4aef",
   "metadata": {},
   "outputs": [],
   "source": [
    "History = model_def.fit(train_gen, epochs=25, validation_data=test_gen, shuffle=True, validation_steps=len(test_gen))"
   ]
  },
  {
   "cell_type": "code",
   "execution_count": null,
   "id": "b8b872be",
   "metadata": {},
   "outputs": [],
   "source": [
    "accuracy = History.History ['accuracy']\n",
    "val_accuracy = History.History ['val_accuracy']\n",
    "loss = History.History['loss']\n",
    "val_loss = History.History['val_loss']\n",
    "epochs = range(len(accuracy))\n",
    "\n",
    "plt.plot(epochs, accuracy, \"g\", lb=\"trainning accuracy\")\n",
    "plt.plot(epochs, val_accuracy, \"r\", lb=\"validation accuracy\")\n",
    "plt.legend()\n",
    "plt.show()\n",
    "\n",
    "plt.plot(epochs, loss, \"g\", lb=\"trainning loss\")\n",
    "plt.plot(epochs, val_loss, \"r\", lb=\"validation loss\")\n",
    "plt.legend()\n",
    "plt.show()\n"
   ]
  },
  {
   "cell_type": "code",
   "execution_count": null,
   "id": "e3964b5e",
   "metadata": {},
   "outputs": [],
   "source": [
    "model_def.save(\"dorwsii.h5\")"
   ]
  },
  {
   "cell_type": "code",
   "execution_count": null,
   "id": "ea8f534b",
   "metadata": {},
   "outputs": [],
   "source": [
    "prediction=np.argmax(model_def.predict(xtest), axis=-1)\n",
    "labels_new = [\"yawn\", \"no_yawn\", \"Closed\", \"Open\"]\n",
    "imgSize = 145\n",
    "def predict(filepath, face_cas=\"/path\"):\n",
    "    img_array = cv2.imread(filepath, cv2.IMREAD_COLOR)\n",
    "    img_array = img_array / 255\n",
    "    re_ar = cv2.resize(img_array, (imgSize, imgSize))\n",
    "    return re_ar.reshape(-1, imgSize, imgSize, 3)\n",
    "\n",
    "model_pre = tf.keras.models.load_model(\"C:/Users/91915/dorwsii.h5\")\n"
   ]
  },
  {
   "cell_type": "code",
   "execution_count": null,
   "id": "0de71264",
   "metadata": {},
   "outputs": [],
   "source": [
    "from sklearn.metrics import classification_report\n",
    "print(classification_report(np.argmax(ytest, axis=1), prediction, target_names=labels_new))\n",
    "prediction = model_pre.predict([predict(\"H:/UK/Ann/testing/test5cl.jpg\")])\n",
    "np.argmax(prediction)\n"
   ]
  }
 ],
 "metadata": {
  "kernelspec": {
   "display_name": "Python 3 (ipykernel)",
   "language": "python",
   "name": "python3"
  },
  "language_info": {
   "codemirror_mode": {
    "name": "ipython",
    "version": 3
   },
   "file_extension": ".py",
   "mimetype": "text/x-python",
   "name": "python",
   "nbconvert_exporter": "python",
   "pygments_lexer": "ipython3",
   "version": "3.10.9"
  }
 },
 "nbformat": 4,
 "nbformat_minor": 5
}
